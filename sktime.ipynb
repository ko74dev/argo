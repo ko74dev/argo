{
  "cells": [
    {
      "cell_type": "markdown",
      "metadata": {
        "id": "view-in-github",
        "colab_type": "text"
      },
      "source": [
        "<a href=\"https://colab.research.google.com/github/ko74dev/argo/blob/main/sktime.ipynb\" target=\"_parent\"><img src=\"https://colab.research.google.com/assets/colab-badge.svg\" alt=\"Open In Colab\"/></a>"
      ]
    },
    {
      "cell_type": "markdown",
      "metadata": {
        "id": "jhWPWFJ4KcyU"
      },
      "source": [
        "# Классификация агрокультур \n",
        "на основе изменения показателя вегетационных индексов во временной последовательности\n",
        "\n",
        "# Знакомимся с датасетом"
      ]
    },
    {
      "cell_type": "code",
      "execution_count": null,
      "metadata": {
        "id": "oLGUQHmgKcyc"
      },
      "outputs": [],
      "source": [
        "import pandas as pd"
      ]
    },
    {
      "cell_type": "code",
      "execution_count": null,
      "metadata": {
        "colab": {
          "base_uri": "https://localhost:8080/",
          "height": 254
        },
        "id": "oXfqc0LFKcyf",
        "outputId": "a95d235e-8fd7-46f2-b937-4c018adadd80"
      },
      "outputs": [
        {
          "data": {
            "text/html": [
              "<div>\n",
              "<style scoped>\n",
              "    .dataframe tbody tr th:only-of-type {\n",
              "        vertical-align: middle;\n",
              "    }\n",
              "\n",
              "    .dataframe tbody tr th {\n",
              "        vertical-align: top;\n",
              "    }\n",
              "\n",
              "    .dataframe thead th {\n",
              "        text-align: right;\n",
              "    }\n",
              "</style>\n",
              "<table border=\"1\" class=\"dataframe\">\n",
              "  <thead>\n",
              "    <tr style=\"text-align: right;\">\n",
              "      <th></th>\n",
              "      <th>area</th>\n",
              "      <th>nd_mean_2021-04-16</th>\n",
              "      <th>nd_mean_2021-04-19</th>\n",
              "      <th>nd_mean_2021-04-22</th>\n",
              "      <th>nd_mean_2021-04-26</th>\n",
              "      <th>nd_mean_2021-04-28</th>\n",
              "      <th>nd_mean_2021-05-02</th>\n",
              "      <th>nd_mean_2021-05-04</th>\n",
              "      <th>nd_mean_2021-05-07</th>\n",
              "      <th>nd_mean_2021-05-16</th>\n",
              "      <th>...</th>\n",
              "      <th>nd_mean_2021-05-20</th>\n",
              "      <th>nd_mean_2021-06-04</th>\n",
              "      <th>nd_mean_2021-06-05</th>\n",
              "      <th>nd_mean_2021-06-10</th>\n",
              "      <th>nd_mean_2021-07-05</th>\n",
              "      <th>nd_mean_2021-08-13</th>\n",
              "      <th>nd_mean_2021-08-27</th>\n",
              "      <th>nd_mean_2021-05-08</th>\n",
              "      <th>nd_mean_2021-05-24</th>\n",
              "      <th>crop</th>\n",
              "    </tr>\n",
              "    <tr>\n",
              "      <th>id</th>\n",
              "      <th></th>\n",
              "      <th></th>\n",
              "      <th></th>\n",
              "      <th></th>\n",
              "      <th></th>\n",
              "      <th></th>\n",
              "      <th></th>\n",
              "      <th></th>\n",
              "      <th></th>\n",
              "      <th></th>\n",
              "      <th></th>\n",
              "      <th></th>\n",
              "      <th></th>\n",
              "      <th></th>\n",
              "      <th></th>\n",
              "      <th></th>\n",
              "      <th></th>\n",
              "      <th></th>\n",
              "      <th></th>\n",
              "      <th></th>\n",
              "      <th></th>\n",
              "    </tr>\n",
              "  </thead>\n",
              "  <tbody>\n",
              "    <tr>\n",
              "      <th>5390</th>\n",
              "      <td>14</td>\n",
              "      <td>0.291399</td>\n",
              "      <td>0.221428</td>\n",
              "      <td>0.007247</td>\n",
              "      <td>0.055074</td>\n",
              "      <td>0.057781</td>\n",
              "      <td>0.187749</td>\n",
              "      <td>0.112403</td>\n",
              "      <td>0.183555</td>\n",
              "      <td>0.504538</td>\n",
              "      <td>...</td>\n",
              "      <td>0.536825</td>\n",
              "      <td>0.644357</td>\n",
              "      <td>0.085861</td>\n",
              "      <td>0.631304</td>\n",
              "      <td>0.694524</td>\n",
              "      <td>0.031836</td>\n",
              "      <td>0.453151</td>\n",
              "      <td>0.0</td>\n",
              "      <td>0.006495</td>\n",
              "      <td>5</td>\n",
              "    </tr>\n",
              "    <tr>\n",
              "      <th>860</th>\n",
              "      <td>75</td>\n",
              "      <td>0.226925</td>\n",
              "      <td>0.043076</td>\n",
              "      <td>0.058611</td>\n",
              "      <td>0.440539</td>\n",
              "      <td>0.120169</td>\n",
              "      <td>0.138846</td>\n",
              "      <td>0.020173</td>\n",
              "      <td>0.117669</td>\n",
              "      <td>0.266987</td>\n",
              "      <td>...</td>\n",
              "      <td>0.085106</td>\n",
              "      <td>0.003272</td>\n",
              "      <td>0.000000</td>\n",
              "      <td>0.010312</td>\n",
              "      <td>0.227649</td>\n",
              "      <td>0.000000</td>\n",
              "      <td>0.096585</td>\n",
              "      <td>0.0</td>\n",
              "      <td>0.011459</td>\n",
              "      <td>6</td>\n",
              "    </tr>\n",
              "  </tbody>\n",
              "</table>\n",
              "<p>2 rows × 73 columns</p>\n",
              "</div>"
            ],
            "text/plain": [
              "      area  nd_mean_2021-04-16  nd_mean_2021-04-19  nd_mean_2021-04-22  \\\n",
              "id                                                                       \n",
              "5390    14            0.291399            0.221428            0.007247   \n",
              "860     75            0.226925            0.043076            0.058611   \n",
              "\n",
              "      nd_mean_2021-04-26  nd_mean_2021-04-28  nd_mean_2021-05-02  \\\n",
              "id                                                                 \n",
              "5390            0.055074            0.057781            0.187749   \n",
              "860             0.440539            0.120169            0.138846   \n",
              "\n",
              "      nd_mean_2021-05-04  nd_mean_2021-05-07  nd_mean_2021-05-16  ...  \\\n",
              "id                                                                ...   \n",
              "5390            0.112403            0.183555            0.504538  ...   \n",
              "860             0.020173            0.117669            0.266987  ...   \n",
              "\n",
              "      nd_mean_2021-05-20  nd_mean_2021-06-04  nd_mean_2021-06-05  \\\n",
              "id                                                                 \n",
              "5390            0.536825            0.644357            0.085861   \n",
              "860             0.085106            0.003272            0.000000   \n",
              "\n",
              "      nd_mean_2021-06-10  nd_mean_2021-07-05  nd_mean_2021-08-13  \\\n",
              "id                                                                 \n",
              "5390            0.631304            0.694524            0.031836   \n",
              "860             0.010312            0.227649            0.000000   \n",
              "\n",
              "      nd_mean_2021-08-27  nd_mean_2021-05-08  nd_mean_2021-05-24  crop  \n",
              "id                                                                      \n",
              "5390            0.453151                 0.0            0.006495     5  \n",
              "860             0.096585                 0.0            0.011459     6  \n",
              "\n",
              "[2 rows x 73 columns]"
            ]
          },
          "execution_count": 3,
          "metadata": {},
          "output_type": "execute_result"
        }
      ],
      "source": [
        "df = pd.read_csv('train_dataset_train.csv', index_col='id')\n",
        "df[-2:]"
      ]
    },
    {
      "cell_type": "markdown",
      "metadata": {
        "id": "tZBhBmmqKcyh"
      },
      "source": [
        "##  Выделяем исходные признаки и целевую переменную"
      ]
    },
    {
      "cell_type": "code",
      "execution_count": null,
      "metadata": {
        "colab": {
          "base_uri": "https://localhost:8080/",
          "height": 411
        },
        "id": "j0SSIahWKcyh",
        "outputId": "f08b1efe-9bf1-48e6-d5e5-2e9dc0747d1d"
      },
      "outputs": [
        {
          "data": {
            "text/html": [
              "<div>\n",
              "<style scoped>\n",
              "    .dataframe tbody tr th:only-of-type {\n",
              "        vertical-align: middle;\n",
              "    }\n",
              "\n",
              "    .dataframe tbody tr th {\n",
              "        vertical-align: top;\n",
              "    }\n",
              "\n",
              "    .dataframe thead th {\n",
              "        text-align: right;\n",
              "    }\n",
              "</style>\n",
              "<table border=\"1\" class=\"dataframe\">\n",
              "  <thead>\n",
              "    <tr style=\"text-align: right;\">\n",
              "      <th></th>\n",
              "      <th>2021-04-15</th>\n",
              "      <th>2021-04-16</th>\n",
              "      <th>2021-04-18</th>\n",
              "      <th>2021-04-19</th>\n",
              "      <th>2021-04-20</th>\n",
              "      <th>2021-04-22</th>\n",
              "      <th>2021-04-23</th>\n",
              "      <th>2021-04-25</th>\n",
              "      <th>2021-04-26</th>\n",
              "      <th>2021-04-27</th>\n",
              "      <th>...</th>\n",
              "      <th>2021-07-29</th>\n",
              "      <th>2021-07-31</th>\n",
              "      <th>2021-08-01</th>\n",
              "      <th>2021-08-07</th>\n",
              "      <th>2021-08-10</th>\n",
              "      <th>2021-08-11</th>\n",
              "      <th>2021-08-12</th>\n",
              "      <th>2021-08-13</th>\n",
              "      <th>2021-08-23</th>\n",
              "      <th>2021-08-27</th>\n",
              "    </tr>\n",
              "  </thead>\n",
              "  <tbody>\n",
              "    <tr>\n",
              "      <th>count</th>\n",
              "      <td>4830.000000</td>\n",
              "      <td>4830.000000</td>\n",
              "      <td>4830.000000</td>\n",
              "      <td>4830.000000</td>\n",
              "      <td>4830.000000</td>\n",
              "      <td>4830.000000</td>\n",
              "      <td>4830.000000</td>\n",
              "      <td>4830.000000</td>\n",
              "      <td>4830.000000</td>\n",
              "      <td>4830.000000</td>\n",
              "      <td>...</td>\n",
              "      <td>4830.000000</td>\n",
              "      <td>4830.000000</td>\n",
              "      <td>4830.000000</td>\n",
              "      <td>4830.000000</td>\n",
              "      <td>4830.000000</td>\n",
              "      <td>4830.000000</td>\n",
              "      <td>4830.000000</td>\n",
              "      <td>4830.000000</td>\n",
              "      <td>4830.000000</td>\n",
              "      <td>4830.000000</td>\n",
              "    </tr>\n",
              "    <tr>\n",
              "      <th>mean</th>\n",
              "      <td>0.141455</td>\n",
              "      <td>0.149911</td>\n",
              "      <td>0.144619</td>\n",
              "      <td>0.118843</td>\n",
              "      <td>0.117383</td>\n",
              "      <td>0.158939</td>\n",
              "      <td>0.088569</td>\n",
              "      <td>0.102169</td>\n",
              "      <td>0.166146</td>\n",
              "      <td>0.096091</td>\n",
              "      <td>...</td>\n",
              "      <td>0.403969</td>\n",
              "      <td>0.322940</td>\n",
              "      <td>0.368242</td>\n",
              "      <td>0.261678</td>\n",
              "      <td>0.135701</td>\n",
              "      <td>0.204823</td>\n",
              "      <td>0.454516</td>\n",
              "      <td>0.121483</td>\n",
              "      <td>0.167788</td>\n",
              "      <td>0.145211</td>\n",
              "    </tr>\n",
              "    <tr>\n",
              "      <th>std</th>\n",
              "      <td>0.107284</td>\n",
              "      <td>0.112598</td>\n",
              "      <td>0.117913</td>\n",
              "      <td>0.103192</td>\n",
              "      <td>0.107475</td>\n",
              "      <td>0.136001</td>\n",
              "      <td>0.084578</td>\n",
              "      <td>0.100976</td>\n",
              "      <td>0.123605</td>\n",
              "      <td>0.099096</td>\n",
              "      <td>...</td>\n",
              "      <td>0.273735</td>\n",
              "      <td>0.279857</td>\n",
              "      <td>0.284816</td>\n",
              "      <td>0.255297</td>\n",
              "      <td>0.172781</td>\n",
              "      <td>0.223281</td>\n",
              "      <td>0.221768</td>\n",
              "      <td>0.151392</td>\n",
              "      <td>0.193051</td>\n",
              "      <td>0.162711</td>\n",
              "    </tr>\n",
              "    <tr>\n",
              "      <th>min</th>\n",
              "      <td>-0.013998</td>\n",
              "      <td>0.000000</td>\n",
              "      <td>-0.024201</td>\n",
              "      <td>0.000000</td>\n",
              "      <td>0.000000</td>\n",
              "      <td>0.000000</td>\n",
              "      <td>-0.029975</td>\n",
              "      <td>-0.012024</td>\n",
              "      <td>0.000000</td>\n",
              "      <td>-0.045503</td>\n",
              "      <td>...</td>\n",
              "      <td>0.000000</td>\n",
              "      <td>-0.007003</td>\n",
              "      <td>0.000000</td>\n",
              "      <td>0.000000</td>\n",
              "      <td>0.000000</td>\n",
              "      <td>0.000000</td>\n",
              "      <td>0.000000</td>\n",
              "      <td>0.000000</td>\n",
              "      <td>0.000000</td>\n",
              "      <td>0.000000</td>\n",
              "    </tr>\n",
              "    <tr>\n",
              "      <th>25%</th>\n",
              "      <td>0.036935</td>\n",
              "      <td>0.047477</td>\n",
              "      <td>0.037164</td>\n",
              "      <td>0.025280</td>\n",
              "      <td>0.021316</td>\n",
              "      <td>0.050124</td>\n",
              "      <td>0.011723</td>\n",
              "      <td>0.017425</td>\n",
              "      <td>0.053859</td>\n",
              "      <td>0.013766</td>\n",
              "      <td>...</td>\n",
              "      <td>0.112063</td>\n",
              "      <td>0.058198</td>\n",
              "      <td>0.079748</td>\n",
              "      <td>0.039089</td>\n",
              "      <td>0.018811</td>\n",
              "      <td>0.027813</td>\n",
              "      <td>0.354782</td>\n",
              "      <td>0.015292</td>\n",
              "      <td>0.025991</td>\n",
              "      <td>0.022416</td>\n",
              "    </tr>\n",
              "    <tr>\n",
              "      <th>50%</th>\n",
              "      <td>0.135840</td>\n",
              "      <td>0.142240</td>\n",
              "      <td>0.120562</td>\n",
              "      <td>0.097346</td>\n",
              "      <td>0.088839</td>\n",
              "      <td>0.129819</td>\n",
              "      <td>0.070405</td>\n",
              "      <td>0.077609</td>\n",
              "      <td>0.155571</td>\n",
              "      <td>0.071599</td>\n",
              "      <td>...</td>\n",
              "      <td>0.473087</td>\n",
              "      <td>0.226646</td>\n",
              "      <td>0.386196</td>\n",
              "      <td>0.144791</td>\n",
              "      <td>0.080259</td>\n",
              "      <td>0.115949</td>\n",
              "      <td>0.509578</td>\n",
              "      <td>0.076428</td>\n",
              "      <td>0.099738</td>\n",
              "      <td>0.088429</td>\n",
              "    </tr>\n",
              "    <tr>\n",
              "      <th>75%</th>\n",
              "      <td>0.238828</td>\n",
              "      <td>0.245596</td>\n",
              "      <td>0.253963</td>\n",
              "      <td>0.202955</td>\n",
              "      <td>0.192879</td>\n",
              "      <td>0.241323</td>\n",
              "      <td>0.143344</td>\n",
              "      <td>0.157719</td>\n",
              "      <td>0.269131</td>\n",
              "      <td>0.146339</td>\n",
              "      <td>...</td>\n",
              "      <td>0.643702</td>\n",
              "      <td>0.591087</td>\n",
              "      <td>0.641436</td>\n",
              "      <td>0.523022</td>\n",
              "      <td>0.167927</td>\n",
              "      <td>0.358803</td>\n",
              "      <td>0.615458</td>\n",
              "      <td>0.162134</td>\n",
              "      <td>0.217370</td>\n",
              "      <td>0.198258</td>\n",
              "    </tr>\n",
              "    <tr>\n",
              "      <th>max</th>\n",
              "      <td>0.573308</td>\n",
              "      <td>0.987671</td>\n",
              "      <td>0.829457</td>\n",
              "      <td>0.760245</td>\n",
              "      <td>0.550173</td>\n",
              "      <td>0.764437</td>\n",
              "      <td>0.622755</td>\n",
              "      <td>0.805738</td>\n",
              "      <td>0.983779</td>\n",
              "      <td>0.810929</td>\n",
              "      <td>...</td>\n",
              "      <td>0.940949</td>\n",
              "      <td>0.938893</td>\n",
              "      <td>0.942515</td>\n",
              "      <td>0.850070</td>\n",
              "      <td>0.814770</td>\n",
              "      <td>0.871752</td>\n",
              "      <td>0.915747</td>\n",
              "      <td>0.896011</td>\n",
              "      <td>0.915447</td>\n",
              "      <td>0.786905</td>\n",
              "    </tr>\n",
              "  </tbody>\n",
              "</table>\n",
              "<p>8 rows × 70 columns</p>\n",
              "</div>"
            ],
            "text/plain": [
              "        2021-04-15   2021-04-16   2021-04-18   2021-04-19   2021-04-20  \\\n",
              "count  4830.000000  4830.000000  4830.000000  4830.000000  4830.000000   \n",
              "mean      0.141455     0.149911     0.144619     0.118843     0.117383   \n",
              "std       0.107284     0.112598     0.117913     0.103192     0.107475   \n",
              "min      -0.013998     0.000000    -0.024201     0.000000     0.000000   \n",
              "25%       0.036935     0.047477     0.037164     0.025280     0.021316   \n",
              "50%       0.135840     0.142240     0.120562     0.097346     0.088839   \n",
              "75%       0.238828     0.245596     0.253963     0.202955     0.192879   \n",
              "max       0.573308     0.987671     0.829457     0.760245     0.550173   \n",
              "\n",
              "        2021-04-22   2021-04-23   2021-04-25   2021-04-26   2021-04-27  ...  \\\n",
              "count  4830.000000  4830.000000  4830.000000  4830.000000  4830.000000  ...   \n",
              "mean      0.158939     0.088569     0.102169     0.166146     0.096091  ...   \n",
              "std       0.136001     0.084578     0.100976     0.123605     0.099096  ...   \n",
              "min       0.000000    -0.029975    -0.012024     0.000000    -0.045503  ...   \n",
              "25%       0.050124     0.011723     0.017425     0.053859     0.013766  ...   \n",
              "50%       0.129819     0.070405     0.077609     0.155571     0.071599  ...   \n",
              "75%       0.241323     0.143344     0.157719     0.269131     0.146339  ...   \n",
              "max       0.764437     0.622755     0.805738     0.983779     0.810929  ...   \n",
              "\n",
              "        2021-07-29   2021-07-31   2021-08-01   2021-08-07   2021-08-10  \\\n",
              "count  4830.000000  4830.000000  4830.000000  4830.000000  4830.000000   \n",
              "mean      0.403969     0.322940     0.368242     0.261678     0.135701   \n",
              "std       0.273735     0.279857     0.284816     0.255297     0.172781   \n",
              "min       0.000000    -0.007003     0.000000     0.000000     0.000000   \n",
              "25%       0.112063     0.058198     0.079748     0.039089     0.018811   \n",
              "50%       0.473087     0.226646     0.386196     0.144791     0.080259   \n",
              "75%       0.643702     0.591087     0.641436     0.523022     0.167927   \n",
              "max       0.940949     0.938893     0.942515     0.850070     0.814770   \n",
              "\n",
              "        2021-08-11   2021-08-12   2021-08-13   2021-08-23   2021-08-27  \n",
              "count  4830.000000  4830.000000  4830.000000  4830.000000  4830.000000  \n",
              "mean      0.204823     0.454516     0.121483     0.167788     0.145211  \n",
              "std       0.223281     0.221768     0.151392     0.193051     0.162711  \n",
              "min       0.000000     0.000000     0.000000     0.000000     0.000000  \n",
              "25%       0.027813     0.354782     0.015292     0.025991     0.022416  \n",
              "50%       0.115949     0.509578     0.076428     0.099738     0.088429  \n",
              "75%       0.358803     0.615458     0.162134     0.217370     0.198258  \n",
              "max       0.871752     0.915747     0.896011     0.915447     0.786905  \n",
              "\n",
              "[8 rows x 70 columns]"
            ]
          },
          "execution_count": 4,
          "metadata": {},
          "output_type": "execute_result"
        }
      ],
      "source": [
        "Y = df['crop']\n",
        "\n",
        "# переименуем столбцы и отбросим area, geo\n",
        "X = df.drop(columns=['area', '.geo', 'crop'])\n",
        "X = X.rename(columns={c: pd.to_datetime('-'.join(c.split('_')[2:])) for c in X.columns})\n",
        "X.sort_index(axis=1, inplace=True)\n",
        "\n",
        "X.describe()"
      ]
    },
    {
      "cell_type": "markdown",
      "metadata": {
        "id": "MzKCh7sdKcyi"
      },
      "source": [
        " ##  Переводим в нужный формат"
      ]
    },
    {
      "cell_type": "code",
      "execution_count": null,
      "metadata": {
        "id": "D0qrUDbWKcyj"
      },
      "outputs": [],
      "source": [
        "def to_format(data):\n",
        "    cols = [\"instances\", \"timepoints\", 'var_0']\n",
        "    items = []\n",
        "    num_item = 0\n",
        "    for row in data.itertuples():\n",
        "        item=[]\n",
        "        for i in range(1, len(row)):\n",
        "            item.append([num_item, i, row[i]])\n",
        "\n",
        "        num_item+=1\n",
        "        items.append(pd.DataFrame(item, columns=cols))\n",
        "    return pd.concat(items).set_index([\"instances\", \"timepoints\"])"
      ]
    },
    {
      "cell_type": "code",
      "execution_count": null,
      "metadata": {
        "id": "RIq2yZTeKcyl"
      },
      "outputs": [],
      "source": [
        "X = to_format(X)"
      ]
    },
    {
      "cell_type": "markdown",
      "metadata": {
        "id": "679eNatrKcym"
      },
      "source": [
        "## Тренируем модели классификаторов библиотеки sktime\n",
        "### WEASEL"
      ]
    },
    {
      "cell_type": "code",
      "execution_count": null,
      "metadata": {
        "colab": {
          "base_uri": "https://localhost:8080/"
        },
        "id": "cXCJ_hujLCgu",
        "outputId": "8b1b177f-9871-426a-be9e-b4beb60ef503"
      },
      "outputs": [
        {
          "name": "stderr",
          "output_type": "stream",
          "text": [
            "/usr/local/lib/python3.7/dist-packages/sktime/classification/dictionary_based/_weasel.py:205: UserWarning: ``alphabet_size=4`` was deprecated in version 0.13.3 and will be changed to ``alphabet_size=2`` in 0.15.Please use alphabet_size=2 due to its lower memory footprint, better runtime at equal accuracy.\n",
            "  \"``alphabet_size=4`` was deprecated in version 0.13.3 and \"\n",
            "/usr/local/lib/python3.7/dist-packages/sklearn/linear_model/_base.py:155: FutureWarning: 'normalize' was deprecated in version 1.0 and will be removed in 1.2. Please leave the normalize parameter to its default value to silence this warning. The default behavior of this estimator is to not do any normalization. If normalization is needed please use sklearn.preprocessing.StandardScaler instead.\n",
            "  FutureWarning,\n"
          ]
        },
        {
          "data": {
            "text/plain": [
              "WEASEL(anova=False, p_threshold=1, random_state=42, window_inc=4)"
            ]
          },
          "execution_count": 14,
          "metadata": {},
          "output_type": "execute_result"
        }
      ],
      "source": [
        "from sktime.classification.dictionary_based import WEASEL\n",
        "\n",
        "W = WEASEL(anova=False, bigrams=True, binning_strategy='information-gain', \n",
        "           window_inc=4, p_threshold=1, alphabet_size=4, n_jobs=1, \n",
        "           feature_selection='chi2', support_probabilities=False, random_state=42\n",
        "    )\n",
        "W.fit(X, Y)"
      ]
    },
    {
      "cell_type": "markdown",
      "metadata": {
        "id": "XTkW7qgZWmBy"
      },
      "source": [
        "#### Предсказание результата"
      ]
    },
    {
      "cell_type": "code",
      "execution_count": null,
      "metadata": {
        "id": "2zyPv2gWR9lP"
      },
      "outputs": [],
      "source": [
        "test = pd.read_csv('test_dataset_test.csv', index_col='id')\n",
        "test = to_format(test.drop(columns=['area','.geo']))"
      ]
    },
    {
      "cell_type": "code",
      "execution_count": null,
      "metadata": {
        "id": "drGph7MryqA0"
      },
      "outputs": [],
      "source": [
        "pd.Series(W.predict(test)).to_csv('W.csv')"
      ]
    },
    {
      "cell_type": "markdown",
      "metadata": {
        "id": "y2bT0PtOyqA1"
      },
      "source": [
        "### MUSE"
      ]
    },
    {
      "cell_type": "code",
      "execution_count": null,
      "metadata": {
        "colab": {
          "base_uri": "https://localhost:8080/"
        },
        "id": "iECyUkwPNh7Y",
        "outputId": "19387cdc-442e-43dd-d243-105ea15f3015"
      },
      "outputs": [
        {
          "name": "stderr",
          "output_type": "stream",
          "text": [
            "/usr/local/lib/python3.7/dist-packages/sktime/classification/dictionary_based/_muse.py:202: UserWarning: MUSE Warning: Input series is univariate; MUSE is designed for multivariate series. It is recommended WEASEL is used instead.\n",
            "  \"MUSE Warning: Input series is univariate; MUSE is designed for\"\n",
            "/usr/local/lib/python3.7/dist-packages/sklearn/linear_model/_base.py:155: FutureWarning: 'normalize' was deprecated in version 1.0 and will be removed in 1.2. Please leave the normalize parameter to its default value to silence this warning. The default behavior of this estimator is to not do any normalization. If normalization is needed please use sklearn.preprocessing.StandardScaler instead.\n",
            "  FutureWarning,\n"
          ]
        }
      ],
      "source": [
        "from sktime.classification.dictionary_based import MUSE\n",
        "\n",
        "M = MUSE(anova=False, variance=True, bigrams=False, \n",
        "         window_inc=4, alphabet_size=4, use_first_order_differences=False, \n",
        "         feature_selection='chi2', p_threshold=1, support_probabilities=False, \n",
        "         n_jobs=1, random_state=42 )\n",
        "M.fit(X, Y)\n",
        "pd.Series(M.predict(test)).to_csv('M.csv')"
      ]
    },
    {
      "cell_type": "markdown",
      "metadata": {
        "id": "qBwQvaHKW5as"
      },
      "source": [
        "### IndividualTDE"
      ]
    },
    {
      "cell_type": "code",
      "execution_count": null,
      "metadata": {
        "id": "7-RiYPJ-XB3J"
      },
      "outputs": [],
      "source": [
        "from sktime.classification.dictionary_based import IndividualTDE\n",
        "\n",
        "IDTE = IndividualTDE()\n",
        "IDTE.fit(X, Y)\n",
        "\n",
        "pd.Series(IDTE.predict(test)).to_csv('IDTE.csv')"
      ]
    },
    {
      "cell_type": "markdown",
      "metadata": {
        "id": "lvx98dloyqA2"
      },
      "source": [
        "### TemporalDictionaryEnsemble"
      ]
    },
    {
      "cell_type": "code",
      "execution_count": null,
      "metadata": {
        "id": "Te-z-GPJS4oW"
      },
      "outputs": [],
      "source": [
        "from sktime.classification.dictionary_based import TemporalDictionaryEnsemble\n",
        "\n",
        "TDE = TemporalDictionaryEnsemble(n_parameter_samples=10,\n",
        "                                  max_ensemble_size=3,\n",
        "                               randomly_selected_params=5,)\n",
        "TDE.fit(X, Y)\n",
        "\n",
        "pd.Series(TDE.predict(test)).to_csv('TDE.csv')"
      ]
    },
    {
      "cell_type": "markdown",
      "metadata": {
        "id": "7HxIkUA7yqA2"
      },
      "source": [
        "### SupervisedTimeSeriesForest"
      ]
    },
    {
      "cell_type": "code",
      "execution_count": null,
      "metadata": {
        "id": "tam3A5uHS4y3"
      },
      "outputs": [],
      "source": [
        "from sktime.classification.interval_based import SupervisedTimeSeriesForest\n",
        "\n",
        "STSF = SupervisedTimeSeriesForest()\n",
        "STSF.fit(X, Y)\n",
        "\n",
        "pd.Series(STSF.predict(test)).to_csv('STSF.csv')"
      ]
    },
    {
      "cell_type": "markdown",
      "metadata": {
        "id": "hW4hVi86yqA3"
      },
      "source": [
        "### RandomIntervalSpectralEnsemble"
      ]
    },
    {
      "cell_type": "code",
      "execution_count": null,
      "metadata": {
        "id": "v1-vYdi7S41L"
      },
      "outputs": [],
      "source": [
        "from sktime.classification.interval_based import RandomIntervalSpectralEnsemble\n",
        "\n",
        "RISE = RandomIntervalSpectralEnsemble()\n",
        "RISE.fit(X, Y)\n",
        "\n",
        "pd.Series(RISE.predict(test)).to_csv('RISE.csv')"
      ]
    },
    {
      "cell_type": "markdown",
      "metadata": {
        "id": "nW665aA0yqA4"
      },
      "source": [
        "### ShapeletTransformClassifier"
      ]
    },
    {
      "cell_type": "code",
      "execution_count": null,
      "metadata": {
        "id": "W8Qo7b2BS46V"
      },
      "outputs": [],
      "source": [
        "from sktime.classification.shapelet_based import ShapeletTransformClassifier\n",
        "from sktime.classification.sklearn import RotationForest\n",
        "\n",
        "STC = ShapeletTransformClassifier(estimator=RotationForest(n_estimators=3),\n",
        "    n_shapelet_samples=100,\n",
        "    max_shapelets=10,\n",
        "    batch_size=20,)\n",
        "STC.fit(X, Y)\n",
        "\n",
        "pd.Series(STC.predict(test)).to_csv('STC.csv')"
      ]
    },
    {
      "cell_type": "markdown",
      "metadata": {
        "id": "NAI8lxZxYrb-"
      },
      "source": [
        "### Arsenal"
      ]
    },
    {
      "cell_type": "code",
      "execution_count": null,
      "metadata": {
        "id": "9kDJ7aEWYrUq"
      },
      "outputs": [],
      "source": [
        "from sktime.classification.kernel_based import Arsenal\n",
        "\n",
        "ars = Arsenal()\n",
        "ars.fit(X, Y)\n",
        "\n",
        "pd.Series(ars.predict(test)).to_csv('ars0.csv')"
      ]
    },
    {
      "cell_type": "markdown",
      "metadata": {
        "id": "G3fUg3m0Yrgs"
      },
      "source": [
        "## Cамый популярный прогноз\n",
        "Далее, по результатам прогнозов моделей, находился самый популярный прогноз."
      ]
    },
    {
      "cell_type": "code",
      "execution_count": null,
      "metadata": {
        "id": "yGOXWz01Kcyy"
      },
      "outputs": [],
      "source": [
        "# Читаем прогнозы моделей (были перенесены в папку sktime)\n",
        "csvs = !ls sktime"
      ]
    },
    {
      "cell_type": "code",
      "execution_count": null,
      "metadata": {
        "id": "LE4FzhYwyqA6"
      },
      "outputs": [],
      "source": [
        "subs = pd.read_csv('sample_solution.csv', index_col='id')\n",
        "subs.drop(['crop'], axis=1, inplace=True)"
      ]
    },
    {
      "cell_type": "code",
      "execution_count": null,
      "metadata": {
        "id": "SMkr7_F3yqA6"
      },
      "outputs": [],
      "source": [
        "for f in csvs[:-1]:\n",
        "    c = f.split('.')[0]\n",
        "    subs[c] = 0\n",
        "    subs[c].iloc[:] = pd.read_csv(f'sktime/{f}').iloc[:,-1].values"
      ]
    },
    {
      "cell_type": "markdown",
      "metadata": {
        "id": "FJEShmU_yqA6"
      },
      "source": [
        "### Итоговый прогноз"
      ]
    },
    {
      "cell_type": "code",
      "execution_count": null,
      "metadata": {
        "id": "ktf8yfsFyqA6"
      },
      "outputs": [],
      "source": [
        "sub = pd.read_csv('sample_solution.csv', index_col='id')\n",
        "sub['crop'] = subs.mode(1)[0].astype(int)\n",
        "sub.to_csv('skt.csv', index=True)"
      ]
    },
    {
      "cell_type": "code",
      "execution_count": null,
      "metadata": {
        "id": "Y4RATXNByqA7"
      },
      "outputs": [],
      "source": []
    }
  ],
  "metadata": {
    "colab": {
      "provenance": [],
      "include_colab_link": true
    },
    "kernelspec": {
      "display_name": "Python 3",
      "language": "python",
      "name": "python3"
    },
    "language_info": {
      "codemirror_mode": {
        "name": "ipython",
        "version": 3
      },
      "file_extension": ".py",
      "mimetype": "text/x-python",
      "name": "python",
      "nbconvert_exporter": "python",
      "pygments_lexer": "ipython3",
      "version": "3.8.5"
    }
  },
  "nbformat": 4,
  "nbformat_minor": 0
}